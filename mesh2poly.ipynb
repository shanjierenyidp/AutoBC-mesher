{
 "cells": [
  {
   "cell_type": "code",
   "execution_count": 1,
   "metadata": {},
   "outputs": [],
   "source": [
    "from meshing_utility import *"
   ]
  },
  {
   "cell_type": "code",
   "execution_count": 2,
   "metadata": {},
   "outputs": [],
   "source": [
    "# load in info \n",
    "box = np.load('./airfoil/airfoil.npz')['arr_0']\n",
    "af = np.load('./airfoil/airfoil.npz')['arr_1']"
   ]
  },
  {
   "cell_type": "code",
   "execution_count": 3,
   "metadata": {},
   "outputs": [],
   "source": [
    "box = np.load('./airfoil/airfoil.npz')['arr_0']\n",
    "af = np.load('./airfoil/airfoil.npz')['arr_1']\n",
    "aorta = np.load('./aorta/aorta.npy')\n",
    "bfs = np.load('./bfs/bfs.npy')"
   ]
  },
  {
   "cell_type": "code",
   "execution_count": 4,
   "metadata": {},
   "outputs": [
    {
     "name": "stdout",
     "output_type": "stream",
     "text": [
      "number of holes is: 1\n",
      "internal flow\n",
      "internal flow\n"
     ]
    }
   ],
   "source": [
    "mesh2poly(box, [af], [np.array([0.5,0.3])], \"./airfoil\", scale=1)\n",
    "mesh2poly(aorta, None, None, \"./aorta\", scale=1)\n",
    "mesh2poly(bfs, None, None, \"./bfs\", scale=1)"
   ]
  },
  {
   "cell_type": "code",
   "execution_count": 5,
   "metadata": {},
   "outputs": [
    {
     "data": {
      "text/plain": [
       "0"
      ]
     },
     "execution_count": 5,
     "metadata": {},
     "output_type": "execute_result"
    }
   ],
   "source": [
    "import os \n",
    "\n",
    "os.system('cd ./airfoil/PSLG && /home/pandu/PPP_meshingtool/triangle/triangle -pqa2 mesh')\n",
    "os.system('cd ./aorta/PSLG && /home/pandu/PPP_meshingtool/triangle/triangle -pqa2 mesh')\n",
    "os.system('cd ./bfs/PSLG && /home/pandu/PPP_meshingtool/triangle/triangle -pqa2 mesh')"
   ]
  },
  {
   "cell_type": "code",
   "execution_count": 21,
   "metadata": {},
   "outputs": [],
   "source": [
    "with open('./airfoil/PSLG/mesh.1.node') as f:\n",
    "    lines = f.readlines()\n",
    "    info = [int(ele) for ele in lines[0].split()]\n",
    "    npts = info[0]\n",
    "    # print(npts)\n",
    "    pts = np.zeros((npts,2))\n",
    "    for i in range(npts):\n",
    "        temp_line = [float(ele) for ele in lines[i+1].split()]\n",
    "        pts[i,0] = temp_line[1]\n",
    "        pts[i,1] = temp_line[2]\n",
    "\n",
    "with open('./airfoil/PSLG/mesh.1.ele') as f:\n",
    "    lines = f.readlines()\n",
    "    info = [int(ele) for ele in lines[0].split()]\n",
    "    nedges = info[0]\n",
    "    # print(npts)\n",
    "    edges = np.zeros((nedges,3),dtype=int)\n",
    "    for i in range(nedges):\n",
    "        temp_line = [int(ele) for ele in lines[i+1].split()]\n",
    "        # print (temp_line)\n",
    "        edges[i,0] = temp_line[1]\n",
    "        edges[i,1] = temp_line[2]\n",
    "        edges[i,2] = temp_line[3]\n",
    "    edges-=1"
   ]
  },
  {
   "cell_type": "code",
   "execution_count": 22,
   "metadata": {},
   "outputs": [],
   "source": [
    "pts_3d = np.hstack((pts,np.zeros(len(pts))[:,np.newaxis]))\n",
    "edges_tri = np.hstack((np.repeat(3,len(edges))[:,np.newaxis], edges))"
   ]
  },
  {
   "cell_type": "code",
   "execution_count": 25,
   "metadata": {},
   "outputs": [],
   "source": [
    "# edges_tri[:10]"
   ]
  },
  {
   "cell_type": "code",
   "execution_count": 26,
   "metadata": {},
   "outputs": [],
   "source": [
    "poly = pv.PolyData(pts_3d, edges_tri)\n",
    "poly.save('./airfoil/PSLG/mesh.vtk')"
   ]
  },
  {
   "cell_type": "code",
   "execution_count": null,
   "metadata": {},
   "outputs": [],
   "source": []
  }
 ],
 "metadata": {
  "kernelspec": {
   "display_name": "Python 3.9.9 ('geoheaven')",
   "language": "python",
   "name": "python3"
  },
  "language_info": {
   "codemirror_mode": {
    "name": "ipython",
    "version": 3
   },
   "file_extension": ".py",
   "mimetype": "text/x-python",
   "name": "python",
   "nbconvert_exporter": "python",
   "pygments_lexer": "ipython3",
   "version": "3.9.9"
  },
  "orig_nbformat": 4,
  "vscode": {
   "interpreter": {
    "hash": "2b004a82c8010c5e8927eb314b68549e78c6155a31458431e6fd09900f1257ce"
   }
  }
 },
 "nbformat": 4,
 "nbformat_minor": 2
}
